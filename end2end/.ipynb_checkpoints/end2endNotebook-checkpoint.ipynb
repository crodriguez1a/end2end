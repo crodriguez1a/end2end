{
 "cells": [
  {
   "cell_type": "code",
   "execution_count": 1,
   "metadata": {},
   "outputs": [],
   "source": [
    "import os\n",
    "import numpy as np\n",
    "import librosa\n",
    "import tensorflow as tf\n",
    "from sklearn.model_selection import train_test_split\n",
    "from model import EnvNet\n",
    "from train import train_model\n",
    "from data_preprocess import make_frames,make_frames_folder\n",
    "from tensorflow.keras.models import Sequential,Model\n",
    "from tensorflow.keras.layers import Conv1D,MaxPooling1D,Dense,Flatten,BatchNormalization,Dropout, Activation\n",
    "from gammatone_init import GammatoneInit\n",
    "from gammatone_init import generate_filters\n",
    "from model_config import *\n",
    "import torch\n",
    "import torch.nn.functional as F\n",
    "from torch.utils.data import TensorDataset, DataLoader\n",
    "import pandas as pd\n",
    "import ast\n",
    "import wandb\n",
    "import torch.optim as optim"
   ]
  },
  {
   "cell_type": "code",
   "execution_count": 2,
   "metadata": {},
   "outputs": [],
   "source": [
    "%load_ext autoreload\n",
    "%autoreload 2"
   ]
  },
  {
   "cell_type": "code",
   "execution_count": 3,
   "metadata": {},
   "outputs": [],
   "source": [
    "!export CUDA_VISIBLE_DEVICES=2"
   ]
  },
  {
   "cell_type": "code",
   "execution_count": 4,
   "metadata": {},
   "outputs": [
    {
     "name": "stdout",
     "output_type": "stream",
     "text": [
      "torch.Size([54033, 16001])\n"
     ]
    }
   ],
   "source": [
    "frame_length = 16000\n",
    "overlapping_fraction = 0.5\n",
    "data = torch.load('./torch_dataset_16khz/all_audio_data.pt')\n",
    "print(data.size())"
   ]
  },
  {
   "cell_type": "code",
   "execution_count": 5,
   "metadata": {},
   "outputs": [
    {
     "name": "stdout",
     "output_type": "stream",
     "text": [
      "torch.Size([54033, 16001])\n",
      "54033\n"
     ]
    }
   ],
   "source": [
    "def to_categorical(tensors, num_classes=10):\n",
    "    return torch.eye(num_classes)[y.int()]\n",
    "print(data.size())\n",
    "tensor_size = (data.size())[0]\n",
    "print(tensor_size)"
   ]
  },
  {
   "cell_type": "code",
   "execution_count": 6,
   "metadata": {},
   "outputs": [],
   "source": [
    "X_train = data[:,0:frame_length].clone()\n",
    "test_portion = int(0.8*((data.size())[0]))\n",
    "#print(test_portion)\n",
    "X_train = data[:test_portion, 0:frame_length].clone()\n",
    "#print(X_train.size())\n",
    "Y_train = data[:test_portion,frame_length:].clone()\n",
    "\n",
    "X_train = X_train.reshape(-1,16,1000)\n",
    "\n",
    "#print(X_train.size())\n",
    "#print(Y_train.size())\n",
    "#print(Y_train)"
   ]
  },
  {
   "cell_type": "code",
   "execution_count": 7,
   "metadata": {},
   "outputs": [],
   "source": [
    "Y_train = Y_train.type(torch.LongTensor)\n",
    "Y_train_one_hot = F.one_hot(Y_train)\n",
    "#print(Y_train_one_hot)\n",
    "#print(Y_train)\n",
    "audio_dataset = TensorDataset (X_train, Y_train)\n",
    "audio_dataloader = DataLoader (audio_dataset, batch_size = 300, shuffle= True)"
   ]
  },
  {
   "cell_type": "code",
   "execution_count": 8,
   "metadata": {},
   "outputs": [],
   "source": [
    "sample_rate = 16000\n",
    "min_center_freq = 100\n",
    "order = 2"
   ]
  },
  {
   "cell_type": "code",
   "execution_count": 9,
   "metadata": {},
   "outputs": [],
   "source": [
    "class RMSLELoss(torch.nn.Module):\n",
    "    def __init__(self):\n",
    "        super().__init__()\n",
    "        self.mse = torch.nn.MSELoss()\n",
    "        \n",
    "    def forward(self, pred, actual):\n",
    "        return self.mse(torch.log(pred.float() + 1), torch.log(actual.float() + 1))\n",
    " "
   ]
  },
  {
   "cell_type": "code",
   "execution_count": 10,
   "metadata": {},
   "outputs": [
    {
     "name": "stdout",
     "output_type": "stream",
     "text": [
      "torch.Size([100, 10])\n",
      "torch.Size([100])\n"
     ]
    }
   ],
   "source": [
    "loss_function = torch.nn.CrossEntropyLoss()\n",
    "input = torch.randn(100, 10, requires_grad=True)\n",
    "target = torch.empty(100, dtype=torch.long).random_(5)\n",
    "print(input.size())\n",
    "print(target.size())\n"
   ]
  },
  {
   "cell_type": "code",
   "execution_count": 23,
   "metadata": {},
   "outputs": [
    {
     "name": "stdout",
     "output_type": "stream",
     "text": [
      "Epoch-0 lr: 0.0001\n",
      "iteration:0 loss:2.3040881156921387 \n",
      "iteration:1 loss:2.302126169204712 \n",
      "iteration:2 loss:2.30366587638855 \n",
      "iteration:3 loss:2.3043837547302246 \n",
      "iteration:4 loss:2.3044300079345703 \n",
      "iteration:5 loss:2.304415702819824 \n",
      "iteration:6 loss:2.3048598766326904 \n",
      "iteration:7 loss:2.3042750358581543 \n",
      "iteration:8 loss:2.3030576705932617 \n",
      "iteration:9 loss:2.3023664951324463 \n"
     ]
    },
    {
     "ename": "KeyboardInterrupt",
     "evalue": "",
     "output_type": "error",
     "traceback": [
      "\u001b[0;31m---------------------------------------------------------------------------\u001b[0m",
      "\u001b[0;31mKeyboardInterrupt\u001b[0m                         Traceback (most recent call last)",
      "\u001b[0;32m<ipython-input-23-faa087b6064e>\u001b[0m in \u001b[0;36m<module>\u001b[0;34m\u001b[0m\n\u001b[1;32m     37\u001b[0m \u001b[0;34m\u001b[0m\u001b[0m\n\u001b[1;32m     38\u001b[0m         \u001b[0mloss\u001b[0m \u001b[0;34m=\u001b[0m \u001b[0mloss_function\u001b[0m\u001b[0;34m(\u001b[0m\u001b[0mx\u001b[0m\u001b[0;34m,\u001b[0m\u001b[0my\u001b[0m\u001b[0;34m)\u001b[0m\u001b[0;34m\u001b[0m\u001b[0;34m\u001b[0m\u001b[0m\n\u001b[0;32m---> 39\u001b[0;31m         \u001b[0mloss\u001b[0m\u001b[0;34m.\u001b[0m\u001b[0mbackward\u001b[0m\u001b[0;34m(\u001b[0m\u001b[0;34m)\u001b[0m\u001b[0;34m\u001b[0m\u001b[0;34m\u001b[0m\u001b[0m\n\u001b[0m\u001b[1;32m     40\u001b[0m         \u001b[0moptimizer\u001b[0m\u001b[0;34m.\u001b[0m\u001b[0mstep\u001b[0m\u001b[0;34m(\u001b[0m\u001b[0;34m)\u001b[0m\u001b[0;34m\u001b[0m\u001b[0;34m\u001b[0m\u001b[0m\n\u001b[1;32m     41\u001b[0m         \u001b[0;31m#scheduler.step()\u001b[0m\u001b[0;34m\u001b[0m\u001b[0;34m\u001b[0m\u001b[0;34m\u001b[0m\u001b[0m\n",
      "\u001b[0;32m/usr/local/lib/python3.8/dist-packages/torch/tensor.py\u001b[0m in \u001b[0;36mbackward\u001b[0;34m(self, gradient, retain_graph, create_graph)\u001b[0m\n\u001b[1;32m    219\u001b[0m                 \u001b[0mretain_graph\u001b[0m\u001b[0;34m=\u001b[0m\u001b[0mretain_graph\u001b[0m\u001b[0;34m,\u001b[0m\u001b[0;34m\u001b[0m\u001b[0;34m\u001b[0m\u001b[0m\n\u001b[1;32m    220\u001b[0m                 create_graph=create_graph)\n\u001b[0;32m--> 221\u001b[0;31m         \u001b[0mtorch\u001b[0m\u001b[0;34m.\u001b[0m\u001b[0mautograd\u001b[0m\u001b[0;34m.\u001b[0m\u001b[0mbackward\u001b[0m\u001b[0;34m(\u001b[0m\u001b[0mself\u001b[0m\u001b[0;34m,\u001b[0m \u001b[0mgradient\u001b[0m\u001b[0;34m,\u001b[0m \u001b[0mretain_graph\u001b[0m\u001b[0;34m,\u001b[0m \u001b[0mcreate_graph\u001b[0m\u001b[0;34m)\u001b[0m\u001b[0;34m\u001b[0m\u001b[0;34m\u001b[0m\u001b[0m\n\u001b[0m\u001b[1;32m    222\u001b[0m \u001b[0;34m\u001b[0m\u001b[0m\n\u001b[1;32m    223\u001b[0m     \u001b[0;32mdef\u001b[0m \u001b[0mregister_hook\u001b[0m\u001b[0;34m(\u001b[0m\u001b[0mself\u001b[0m\u001b[0;34m,\u001b[0m \u001b[0mhook\u001b[0m\u001b[0;34m)\u001b[0m\u001b[0;34m:\u001b[0m\u001b[0;34m\u001b[0m\u001b[0;34m\u001b[0m\u001b[0m\n",
      "\u001b[0;32m/usr/local/lib/python3.8/dist-packages/torch/autograd/__init__.py\u001b[0m in \u001b[0;36mbackward\u001b[0;34m(tensors, grad_tensors, retain_graph, create_graph, grad_variables)\u001b[0m\n\u001b[1;32m    128\u001b[0m         \u001b[0mretain_graph\u001b[0m \u001b[0;34m=\u001b[0m \u001b[0mcreate_graph\u001b[0m\u001b[0;34m\u001b[0m\u001b[0;34m\u001b[0m\u001b[0m\n\u001b[1;32m    129\u001b[0m \u001b[0;34m\u001b[0m\u001b[0m\n\u001b[0;32m--> 130\u001b[0;31m     Variable._execution_engine.run_backward(\n\u001b[0m\u001b[1;32m    131\u001b[0m         \u001b[0mtensors\u001b[0m\u001b[0;34m,\u001b[0m \u001b[0mgrad_tensors_\u001b[0m\u001b[0;34m,\u001b[0m \u001b[0mretain_graph\u001b[0m\u001b[0;34m,\u001b[0m \u001b[0mcreate_graph\u001b[0m\u001b[0;34m,\u001b[0m\u001b[0;34m\u001b[0m\u001b[0;34m\u001b[0m\u001b[0m\n\u001b[1;32m    132\u001b[0m         allow_unreachable=True)  # allow_unreachable flag\n",
      "\u001b[0;31mKeyboardInterrupt\u001b[0m: "
     ]
    }
   ],
   "source": [
    "from featureblocks import FeatureBlock3\n",
    "# The trinity of models\n",
    "model = FeatureBlock3()\n",
    "#model = FeatureBlockGT()\n",
    "# This is the losss function\n",
    "#loss_function = RMSLELoss()\n",
    "loss_function = torch.nn.CrossEntropyLoss()\n",
    "# This is what controls the gradient descent\n",
    "#optimizer = torch.optim.Adadelta(model.parameters(),lr=0.00001)\n",
    "optimizer = torch.optim.Adam(model.parameters(),lr=0.0001)\n",
    "scheduler = optim.lr_scheduler.StepLR(optimizer, step_size=2000, gamma=0.1)\n",
    "\n",
    "iteration = 0\n",
    "losses = []\n",
    "\n",
    "#wandb.init(project='end2end1D')\n",
    "#config = wandb.config\n",
    "\n",
    "#wandb.watch(model)\n",
    "#model.train()\n",
    "\n",
    "\n",
    "for epoch in range(100):\n",
    "    \n",
    "    print('Epoch-{0} lr: {1}'.format(epoch, optimizer.param_groups[0]['lr']))\n",
    "    \n",
    "    for index,(x,y) in enumerate(audio_dataloader):\n",
    "        optimizer.zero_grad()\n",
    "        #print(x.size())\n",
    "        x = model(x.float())\n",
    "        #print(x.size())\n",
    "        #print(y.size())\n",
    "        # Use argmax to get class with max probability value from softmax\n",
    "        #x = x.argmax(dim=-1) \n",
    "        x = x.float()\n",
    "        y = y.squeeze(1)\n",
    "        \n",
    "        loss = loss_function(x,y)\n",
    "        loss.backward()\n",
    "        optimizer.step()\n",
    "        scheduler.step()\n",
    "        \n",
    "        print(\"iteration:{} loss:{} \".format(iteration, loss.item()))\n",
    "        losses.append(loss)\n",
    "        iteration += 1\n",
    "        \n",
    "        #wandb.log({\"loss\": loss, \"epoch\": epoch})\n",
    "        \n",
    "        \n",
    "#using wandb to visualize"
   ]
  },
  {
   "cell_type": "code",
   "execution_count": 49,
   "metadata": {},
   "outputs": [],
   "source": [
    "shape = [16,16,64]\n",
    "filters = generate_filters(shape[2],shape[0],sample_rate,min_center_freq,order)\n",
    "filters = filters.reshape(filters.shape[1],1,filters.shape[0])\n"
   ]
  },
  {
   "cell_type": "code",
   "execution_count": 58,
   "metadata": {},
   "outputs": [
    {
     "data": {
      "text/plain": [
       "[<matplotlib.lines.Line2D at 0x202354620c8>]"
      ]
     },
     "execution_count": 58,
     "metadata": {},
     "output_type": "execute_result"
    },
    {
     "data": {
      "image/png": "[encoded data removed]",
      "text/plain": [
       "<Figure size 432x288 with 1 Axes>"
      ]
     },
     "metadata": {
      "needs_background": "light"
     },
     "output_type": "display_data"
    }
   ],
   "source": [
    "import matplotlib.pyplot as plt\n",
    "\n",
    "y = np.array(losses, dtype=float)\n",
    "x = np.arange(len(losses))\n",
    "\n",
    "plt.xlabel(\"iteration\")\n",
    "plt.ylabel(\"loss\")\n",
    "plt.suptitle(\"CrossEntropy loss f, Adam optimizer, lr=0.0001, epochs=100, batch-size=300\", fontsize=9)\n",
    "\n",
    "m, b = np.polyfit(x, y, 1)\n",
    "plt.plot(x, y, 'o')\n",
    "plt.plot(x, m*x+b)"
   ]
  },
  {
   "cell_type": "code",
   "execution_count": null,
   "metadata": {},
   "outputs": [],
   "source": []
  }
 ],
 "metadata": {
  "kernelspec": {
   "display_name": "Python 3",
   "language": "python",
   "name": "python3"
  },
  "language_info": {
   "codemirror_mode": {
    "name": "ipython",
    "version": 3
   },
   "file_extension": ".py",
   "mimetype": "text/x-python",
   "name": "python",
   "nbconvert_exporter": "python",
   "pygments_lexer": "ipython3",
   "version": "3.8.10"
  }
 },
 "nbformat": 4,
 "nbformat_minor": 4
}
