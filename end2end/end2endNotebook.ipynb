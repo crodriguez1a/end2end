{
 "cells": [
  {
   "cell_type": "code",
   "execution_count": 2,
   "metadata": {},
   "outputs": [],
   "source": [
    "import os\n",
    "import numpy as np\n",
    "import librosa\n",
    "import tensorflow as tf\n",
    "from sklearn.model_selection import train_test_split\n",
    "from model import EnvNet\n",
    "from train import train_model\n",
    "from data_preprocess import make_frames,make_frames_folder\n",
    "from tensorflow.keras.models import Sequential,Model\n",
    "from tensorflow.keras.layers import Conv1D,MaxPooling1D,Dense,Flatten,BatchNormalization,Dropout, Activation\n",
    "from gammatone_init import GammatoneInit\n",
    "from gammatone_init import generate_filters\n",
    "from model_config import *\n",
    "import torch\n",
    "from torch.utils.data import TensorDataset, DataLoader\n",
    "import pandas as pd\n",
    "import ast"
   ]
  },
  {
   "cell_type": "code",
   "execution_count": 3,
   "metadata": {},
   "outputs": [
    {
     "name": "stdout",
     "output_type": "stream",
     "text": [
      "torch.Size([54033, 16001])\n"
     ]
    }
   ],
   "source": [
    "frame_length = 16000\n",
    "overlapping_fraction = 0.5\n",
    "data = torch.load('./torch_dataset_16khz/all_audio_data.pt')\n",
    "print(data.size())"
   ]
  },
  {
   "cell_type": "code",
   "execution_count": 4,
   "metadata": {},
   "outputs": [
    {
     "name": "stdout",
     "output_type": "stream",
     "text": [
      "torch.Size([54033, 16001])\n",
      "54033\n"
     ]
    }
   ],
   "source": [
    "def to_categorical(tensors, num_classes=10):\n",
    "    return torch.eye(num_classes)[y.int()]\n",
    "print(data.size())\n",
    "tensor_size = (data.size())[0]\n",
    "print(tensor_size)"
   ]
  },
  {
   "cell_type": "code",
   "execution_count": 5,
   "metadata": {},
   "outputs": [
    {
     "name": "stdout",
     "output_type": "stream",
     "text": [
      "43226\n",
      "torch.Size([43226, 16000])\n",
      "torch.Size([43226, 16, 1000])\n",
      "torch.Size([43226, 1])\n",
      "tensor([[3.],\n",
      "        [3.],\n",
      "        [3.],\n",
      "        ...,\n",
      "        [2.],\n",
      "        [2.],\n",
      "        [2.]], dtype=torch.float64)\n"
     ]
    }
   ],
   "source": [
    "X_train = data[:,0:frame_length].clone()\n",
    "test_portion = int(0.8*((data.size())[0]))\n",
    "print(test_portion)\n",
    "X_train = data[:test_portion, 0:frame_length].clone()\n",
    "print(X_train.size())\n",
    "Y_train = data[:test_portion,frame_length:].clone()\n",
    "\n",
    "X_train = X_train.reshape(-1,16,1000)\n",
    "\n",
    "print(X_train.size())\n",
    "print(Y_train.size())\n",
    "print(Y_train)"
   ]
  },
  {
   "cell_type": "code",
   "execution_count": 6,
   "metadata": {},
   "outputs": [
    {
     "name": "stdout",
     "output_type": "stream",
     "text": [
      "tensor([[3.],\n",
      "        [3.],\n",
      "        [3.],\n",
      "        ...,\n",
      "        [2.],\n",
      "        [2.],\n",
      "        [2.]], dtype=torch.float64)\n"
     ]
    }
   ],
   "source": [
    "audio_dataset = TensorDataset (X_train, Y_train)\n",
    "audio_dataloader = DataLoader (audio_dataset, batch_size = 100, shuffle= True)\n",
    "print(Y_train)"
   ]
  },
  {
   "cell_type": "code",
   "execution_count": 7,
   "metadata": {},
   "outputs": [],
   "source": [
    "sample_rate = 16000\n",
    "min_center_freq = 100\n",
    "order = 2"
   ]
  },
  {
   "cell_type": "code",
   "execution_count": 8,
   "metadata": {},
   "outputs": [],
   "source": [
    "class RMSLELoss(torch.nn.Module):\n",
    "    def __init__(self):\n",
    "        super().__init__()\n",
    "        self.mse = torch.nn.MSELoss()\n",
    "        \n",
    "    def forward(self, pred, actual):\n",
    "        return self.mse(torch.log(pred.float() + 1), torch.log(actual.float() + 1))"
   ]
  },
  {
   "cell_type": "code",
   "execution_count": null,
   "metadata": {},
   "outputs": [],
   "source": [
    "from feature_blocks import FeatureBlock3\n",
    "from feature_blocks import FeatureBlockGT\n",
    "\n",
    "# The trinity of models\n",
    "model = FeatureBlock3()\n",
    "#model = FeatureBlockGT()\n",
    "# This is the losss function\n",
    "loss_function = RMSLELoss()\n",
    "# This is what controls the gradient descent\n",
    "optimizer = torch.optim.Adadelta(model.parameters(), lr=0.5)\n",
    "iteration = 0\n",
    "losses = []\n",
    "\n",
    "for epoch in range(100):\n",
    "    \n",
    "    for index,(x,y) in enumerate(audio_dataloader):\n",
    "        optimizer.zero_grad()\n",
    "        # Run model and use .cuda() to send to GPU\n",
    "        #print(x.size())\n",
    "        x = model(x.float()).cuda()\n",
    "        #print(x.size())\n",
    "        #print(y.size())\n",
    "        # Use argmax to get class with max probability value from softmax\n",
    "        x = x.argmax(dim=-1)\n",
    "        # send y to gpu too\n",
    "        y = y.cuda()\n",
    "        \n",
    "        loss = loss_function(x,y)\n",
    "        loss.requires_grad = True\n",
    "        loss.backward()\n",
    "        optimizer.step()\n",
    "        print(\"iteration:{} loss:{} \".format(iteration, loss.item()))\n",
    "        losses.append(loss)\n",
    "        iteration += 1\n"
   ]
  },
  {
   "cell_type": "code",
   "execution_count": 9,
   "metadata": {},
   "outputs": [],
   "source": [
    "shape = [16,16,64]\n",
    "filters = generate_filters(shape[2],shape[0],sample_rate,min_center_freq,order)\n",
    "filters = filters.reshape(filters.shape[1],1,filters.shape[0])\n"
   ]
  },
  {
   "cell_type": "code",
   "execution_count": 10,
   "metadata": {},
   "outputs": [
    {
     "ename": "NameError",
     "evalue": "name 'losses' is not defined",
     "output_type": "error",
     "traceback": [
      "\u001b[1;31m---------------------------------------------------------------------------\u001b[0m",
      "\u001b[1;31mNameError\u001b[0m                                 Traceback (most recent call last)",
      "\u001b[1;32m<ipython-input-10-822c80f0913f>\u001b[0m in \u001b[0;36m<module>\u001b[1;34m\u001b[0m\n\u001b[0;32m      1\u001b[0m \u001b[1;32mimport\u001b[0m \u001b[0mmatplotlib\u001b[0m\u001b[1;33m.\u001b[0m\u001b[0mpyplot\u001b[0m \u001b[1;32mas\u001b[0m \u001b[0mplt\u001b[0m\u001b[1;33m\u001b[0m\u001b[1;33m\u001b[0m\u001b[0m\n\u001b[1;32m----> 2\u001b[1;33m \u001b[0my\u001b[0m \u001b[1;33m=\u001b[0m \u001b[0mnp\u001b[0m\u001b[1;33m.\u001b[0m\u001b[0marray\u001b[0m\u001b[1;33m(\u001b[0m\u001b[0mlosses\u001b[0m\u001b[1;33m,\u001b[0m \u001b[0mdtype\u001b[0m\u001b[1;33m=\u001b[0m\u001b[0mfloat\u001b[0m\u001b[1;33m)\u001b[0m\u001b[1;33m\u001b[0m\u001b[1;33m\u001b[0m\u001b[0m\n\u001b[0m\u001b[0;32m      3\u001b[0m \u001b[0mx\u001b[0m \u001b[1;33m=\u001b[0m \u001b[0mnp\u001b[0m\u001b[1;33m.\u001b[0m\u001b[0marange\u001b[0m\u001b[1;33m(\u001b[0m\u001b[0mlen\u001b[0m\u001b[1;33m(\u001b[0m\u001b[0mlosses\u001b[0m\u001b[1;33m)\u001b[0m\u001b[1;33m)\u001b[0m\u001b[1;33m\u001b[0m\u001b[1;33m\u001b[0m\u001b[0m\n\u001b[0;32m      4\u001b[0m \u001b[0mprint\u001b[0m\u001b[1;33m(\u001b[0m\u001b[0mx\u001b[0m\u001b[1;33m.\u001b[0m\u001b[0mdtype\u001b[0m\u001b[1;33m)\u001b[0m\u001b[1;33m\u001b[0m\u001b[1;33m\u001b[0m\u001b[0m\n\u001b[0;32m      5\u001b[0m \u001b[0mprint\u001b[0m\u001b[1;33m(\u001b[0m\u001b[0my\u001b[0m\u001b[1;33m.\u001b[0m\u001b[0mdtype\u001b[0m\u001b[1;33m)\u001b[0m\u001b[1;33m\u001b[0m\u001b[1;33m\u001b[0m\u001b[0m\n",
      "\u001b[1;31mNameError\u001b[0m: name 'losses' is not defined"
     ]
    }
   ],
   "source": [
    "import matplotlib.pyplot as plt\n",
    "y = np.array(losses, dtype=float)\n",
    "x = np.arange(len(losses))\n",
    "print(x.dtype)\n",
    "print(y.dtype)\n",
    "\n",
    "m, b = np.polyfit(x, y, 1)\n",
    "plt.plot(x, y, 'o')\n",
    "plt.plot(x, m*x+b)"
   ]
  },
  {
   "cell_type": "code",
   "execution_count": null,
   "metadata": {},
   "outputs": [],
   "source": []
  }
 ],
 "metadata": {
  "kernelspec": {
   "display_name": "Python 3",
   "language": "python",
   "name": "python3"
  },
  "language_info": {
   "codemirror_mode": {
    "name": "ipython",
    "version": 3
   },
   "file_extension": ".py",
   "mimetype": "text/x-python",
   "name": "python",
   "nbconvert_exporter": "python",
   "pygments_lexer": "ipython3",
   "version": "3.7.4"
  }
 },
 "nbformat": 4,
 "nbformat_minor": 2
}
